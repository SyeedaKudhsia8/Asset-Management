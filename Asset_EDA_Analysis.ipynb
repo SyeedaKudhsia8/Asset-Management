{
 "cells": [
  {
   "cell_type": "markdown",
   "id": "9ec06a60",
   "metadata": {},
   "source": [
    "# 📊 Property Management Analysis\n",
    "\n",
    "Business Questions Q5–Q10 answered using Python EDA."
   ]
  },
  {
   "cell_type": "code",
   "execution_count": null,
   "id": "bf1b209c",
   "metadata": {},
   "outputs": [],
   "source": [
    "import pandas as pd\n",
    "import matplotlib.pyplot as plt\n",
    "import seaborn as sns\n",
    "\n",
    "df = pd.read_csv(\"Property_Analysis.csv\")\n",
    "df.head()\n"
   ]
  },
  {
   "cell_type": "markdown",
   "id": "e9fec3da",
   "metadata": {},
   "source": [
    "### Q5: Average Occupancy Rate by Property Type"
   ]
  },
  {
   "cell_type": "code",
   "execution_count": null,
   "id": "b2730cd1",
   "metadata": {},
   "outputs": [],
   "source": [
    "q5_result = df.groupby('Property_Type')['Occupancy_Percentage'].mean().sort_values(ascending=False)\n",
    "print(q5_result)\n",
    "q5_result.plot(kind='bar', title='Avg Occupancy by Property Type', ylabel='Occupancy %', color='skyblue')\n",
    "plt.show()\n"
   ]
  },
  {
   "cell_type": "markdown",
   "id": "fe134949",
   "metadata": {},
   "source": [
    "### Q6: Asset Manager with Highest Total Gross Value"
   ]
  },
  {
   "cell_type": "code",
   "execution_count": null,
   "id": "db8ab7be",
   "metadata": {},
   "outputs": [],
   "source": [
    "q6_result = df.groupby('Manager_Name')['Gross_Value'].sum().sort_values(ascending=False)\n",
    "print(q6_result.head())\n",
    "q6_result.head(10).plot(kind='bar', title='Top Asset Managers by Gross Value', color='green')\n",
    "plt.ylabel(\"Total Gross Value\")\n",
    "plt.show()\n"
   ]
  },
  {
   "cell_type": "markdown",
   "id": "a82b5da8",
   "metadata": {},
   "source": [
    "### Q7: Properties with Occupancy Below 50%"
   ]
  },
  {
   "cell_type": "code",
   "execution_count": null,
   "id": "10a365c7",
   "metadata": {},
   "outputs": [],
   "source": [
    "q7_result = df[df['Occupancy_Percentage'] < 50]\n",
    "print(q7_result[['Property_ID', 'Property_Name', 'Occupancy_Percentage']].head())\n"
   ]
  },
  {
   "cell_type": "markdown",
   "id": "6b278326",
   "metadata": {},
   "source": [
    "### Q8: Gross Value Trends by City"
   ]
  },
  {
   "cell_type": "code",
   "execution_count": null,
   "id": "599678da",
   "metadata": {},
   "outputs": [],
   "source": [
    "q8_result = df.groupby('City')['Gross_Value'].sum().sort_values(ascending=False)\n",
    "print(q8_result.head())\n",
    "q8_result.plot(kind='bar', title='Gross Value by City', color='orange')\n",
    "plt.ylabel(\"Total Gross Value\")\n",
    "plt.show()\n"
   ]
  },
  {
   "cell_type": "markdown",
   "id": "71690a11",
   "metadata": {},
   "source": [
    "### Q9: Highest Avg Gross Value by Property Type"
   ]
  },
  {
   "cell_type": "code",
   "execution_count": null,
   "id": "acf0a468",
   "metadata": {},
   "outputs": [],
   "source": [
    "q9_result = df.groupby('Property_Type')['Gross_Value'].mean().sort_values(ascending=False)\n",
    "print(q9_result)\n",
    "q9_result.plot(kind='barh', title='Avg Gross Value by Type', color='purple')\n",
    "plt.xlabel(\"Avg Gross Value\")\n",
    "plt.show()\n"
   ]
  },
  {
   "cell_type": "markdown",
   "id": "3302ab69",
   "metadata": {},
   "source": [
    "### Q10: Managers with All Properties >90% Occupancy"
   ]
  },
  {
   "cell_type": "code",
   "execution_count": null,
   "id": "105b5390",
   "metadata": {},
   "outputs": [],
   "source": [
    "q10_result = df.groupby('Manager_Name').filter(lambda x: (x['Occupancy_Percentage'] > 90).all())\n",
    "managers = q10_result['Manager_Name'].unique()\n",
    "print(\"Managers with all properties over 90% occupancy:\")\n",
    "print(managers)\n"
   ]
  }
 ],
 "metadata": {},
 "nbformat": 4,
 "nbformat_minor": 5
}
